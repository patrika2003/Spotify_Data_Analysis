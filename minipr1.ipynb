{
  "cells": [
    {
      "cell_type": "code",
      "source": [],
      "metadata": {
        "id": "d-rmBYuDcmj4"
      },
      "execution_count": null,
      "outputs": []
    },
    {
      "cell_type": "code",
      "execution_count": null,
      "metadata": {
        "colab": {
          "base_uri": "https://localhost:8080/"
        },
        "id": "FojkIOL1Cenk",
        "outputId": "f71bdc59-b710-4768-aa10-4d1734b7a4b4"
      },
      "outputs": [
        {
          "output_type": "stream",
          "name": "stdout",
          "text": [
            "Loaded 953 rows into crucial-kayak-468209-r6.miniproject.minitable.\n"
          ]
        }
      ],
      "source": [
        "import os\n",
        "import pandas as pd\n",
        "from google.cloud import bigquery\n",
        "\n",
        "\n",
        "csv_file_path = \"/content/spotify-2023.csv\"\n",
        "df = pd.read_csv(csv_file_path)\n",
        "\n",
        "\n",
        "df.columns = (\n",
        "    df.columns\n",
        "    .str.strip()\n",
        "    .str.replace(r\"[()]\", \"\", regex=True)\n",
        "    .str.replace(\" \", \"_\")\n",
        "    .str.replace(\"-\", \"_\")\n",
        "    .str.replace(\"[^0-9a-zA-Z_]\", \"\", regex=True)\n",
        ")\n",
        "\n",
        "cleaned_csv_path = \"/content/spotify_2023_cleaned.csv\"\n",
        "df.to_csv(cleaned_csv_path, index=False)\n",
        "\n",
        "\n",
        "os.environ[\"GOOGLE_APPLICATION_CREDENTIALS\"] = \"/content/crucial-kayak-468209-r6-4fb3c3a61ce9.json\"\n",
        "\n",
        "client = bigquery.Client()\n",
        "\n",
        "project_id = \"crucial-kayak-468209-r6\"\n",
        "dataset_id = \"miniproject\"\n",
        "table_id = \"minitable\"\n",
        "csv_file_path = \"/content/spotify-2023.csv\"\n",
        "\n",
        "table_ref = f\"{project_id}.{dataset_id}.{table_id}\"\n",
        "\n",
        "job_config = bigquery.LoadJobConfig(\n",
        "    source_format=bigquery.SourceFormat.CSV,\n",
        "    skip_leading_rows=1,\n",
        "    autodetect=True,\n",
        "    write_disposition=\"WRITE_TRUNCATE\")\n",
        "\n",
        "with open(csv_file_path, \"rb\") as source_file:\n",
        "    load_job = client.load_table_from_file(\n",
        "        source_file,\n",
        "        destination=table_ref,\n",
        "        job_config=job_config,\n",
        "    )\n",
        "\n",
        "load_job.result()\n",
        "\n",
        "destination_table = client.get_table(table_ref)\n",
        "print(f\"Loaded {destination_table.num_rows} rows into {table_ref}.\")\n",
        "\n",
        "\n"
      ]
    },
    {
      "cell_type": "code",
      "source": [],
      "metadata": {
        "id": "WCXKzefj-acu"
      },
      "execution_count": null,
      "outputs": []
    }
  ],
  "metadata": {
    "colab": {
      "provenance": [],
      "toc_visible": true
    },
    "kernelspec": {
      "display_name": "Python 3",
      "name": "python3"
    },
    "language_info": {
      "name": "python"
    }
  },
  "nbformat": 4,
  "nbformat_minor": 0
}